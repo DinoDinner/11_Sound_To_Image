{
 "cells": [
  {
   "attachments": {},
   "cell_type": "markdown",
   "metadata": {},
   "source": [
    "#### MFCC - 간단한 실습"
   ]
  },
  {
   "cell_type": "code",
   "execution_count": 11,
   "metadata": {},
   "outputs": [],
   "source": [
    "import librosa\n",
    "import librosa.display\n",
    "import numpy as np\n",
    "import matplotlib.pyplot as plt"
   ]
  },
  {
   "cell_type": "code",
   "execution_count": 12,
   "metadata": {},
   "outputs": [
    {
     "name": "stdout",
     "output_type": "stream",
     "text": [
      "SR rate :  22050\n"
     ]
    }
   ],
   "source": [
    "# 1. 음성 파일 가져오기\n",
    "file_path = '../99_Studyfile/02_Sample/blues.00001.wav'\n",
    "y, sr = librosa.load(file_path)\n",
    "print('SR rate : ', sr)"
   ]
  },
  {
   "cell_type": "code",
   "execution_count": 13,
   "metadata": {},
   "outputs": [
    {
     "name": "stdout",
     "output_type": "stream",
     "text": [
      "[[ 5.3796820e-02+0.0000000e+00j  2.8211858e+00+0.0000000e+00j\n",
      "   7.7053776e+00+0.0000000e+00j ... -1.4414183e+00+0.0000000e+00j\n",
      "  -1.3481982e+00+0.0000000e+00j -4.1797791e+00+0.0000000e+00j]\n",
      " [ 5.0167871e-01+8.3506501e-01j -4.0155300e-01+1.2011561e+00j\n",
      "  -3.8527081e+00+3.6937428e+00j ... -3.1102002e-01+1.2594367e+00j\n",
      "   1.1273700e+00-1.0498327e+00j  2.2146888e+00-2.0105529e+00j]\n",
      " [-1.9553659e+00-6.6863143e-01j  1.9860005e+00+1.8980149e+00j\n",
      "   1.9972939e+00-3.7817092e+00j ...  1.7908789e+00-1.4895716e+00j\n",
      "  -1.7049931e+00+1.4737532e+00j  4.2140970e+00+2.6621089e+00j]\n",
      " ...\n",
      " [ 5.3247431e-04+2.3299521e-05j -3.7518758e-04-1.0608655e-04j\n",
      "  -4.7851045e-05+1.9487874e-04j ...  7.8283356e-06+5.9137466e-05j\n",
      "   1.2221524e-03-5.0121918e-03j -7.8109335e-03+3.6176901e-02j]\n",
      " [-4.1708208e-04+1.3295542e-04j  3.2084421e-04+3.4094224e-04j\n",
      "   1.5252092e-04-2.3216791e-04j ... -7.8446043e-05-1.1500816e-04j\n",
      "   3.7801645e-03-3.0535129e-03j -2.3120986e-02-2.8629614e-02j]\n",
      " [ 2.6630767e-04+0.0000000e+00j -2.0454520e-04+0.0000000e+00j\n",
      "  -3.2122823e-04+0.0000000e+00j ...  1.4130525e-04+0.0000000e+00j\n",
      "   5.1839165e-03+0.0000000e+00j  3.6870293e-02+0.0000000e+00j]]\n"
     ]
    }
   ],
   "source": [
    "# 2. 음성 파일에서 STFT 계산\n",
    "hop_length = 512    # 윈도우 이동크기 -> 스펙트로 그램을 생성할 때 얼마만큼 쪼개서 생성할거냐\n",
    "n_fft = 2048    # FFT : 주어진 시간 대역에서 주파수 정보를 추출하는 데 사용\n",
    "shft = librosa.stft(y, n_fft=n_fft, hop_length=hop_length)  # 시간-주파수 영역의 표현인 스펙트로그램 값\n",
    "\n",
    "print(shft)"
   ]
  },
  {
   "cell_type": "code",
   "execution_count": 22,
   "metadata": {},
   "outputs": [
    {
     "ename": "TypeError",
     "evalue": "power_to_db() got an unexpected keyword argument 'sr'",
     "output_type": "error",
     "traceback": [
      "\u001b[0;31m---------------------------------------------------------------------------\u001b[0m",
      "\u001b[0;31mTypeError\u001b[0m                                 Traceback (most recent call last)",
      "Cell \u001b[0;32mIn[22], line 9\u001b[0m\n\u001b[1;32m      2\u001b[0m n_mels \u001b[39m=\u001b[39m \u001b[39m40\u001b[39m \u001b[39m# 20-40 사이의 값으로 설정. 대부분의 음악분석 스케일\u001b[39;00m\n\u001b[1;32m      4\u001b[0m \u001b[39m# librosa.power_to_db() 진폭을 데시벨 형태로 변환\u001b[39;00m\n\u001b[1;32m      5\u001b[0m \u001b[39m# np.abs(stft)**2 : STFT 절대값을 제곡한 값\u001b[39;00m\n\u001b[1;32m      6\u001b[0m \u001b[39m# STFT : 진폭을 나타내는 파워 스펙토그램 계산 -> mel_spec\u001b[39;00m\n\u001b[1;32m      8\u001b[0m mel_spec \u001b[39m=\u001b[39m librosa\u001b[39m.\u001b[39mfeature\u001b[39m.\u001b[39mmelspectrogram(\n\u001b[0;32m----> 9\u001b[0m     s\u001b[39m=\u001b[39mlibrosa\u001b[39m.\u001b[39;49mpower_to_db(np\u001b[39m.\u001b[39;49mabs(shft\u001b[39m*\u001b[39;49m\u001b[39m*\u001b[39;49m\u001b[39m2\u001b[39;49m),\n\u001b[1;32m     10\u001b[0m     sr\u001b[39m=\u001b[39;49msr,\n\u001b[1;32m     11\u001b[0m     n_mfcc\u001b[39m=\u001b[39;49mn_mfcc)\n\u001b[1;32m     12\u001b[0m     )\n",
      "\u001b[0;31mTypeError\u001b[0m: power_to_db() got an unexpected keyword argument 'sr'"
     ]
    }
   ],
   "source": [
    "# 3. 멜 스케일 필터 방정식을 이용해서 Mel Spectrogram 계산\n",
    "n_mels = 40 # 20-40 사이의 값으로 설정. 대부분의 음악분석 스케일\n",
    "\n",
    "# librosa.power_to_db() 진폭을 데시벨 형태로 변환\n",
    "# np.abs(stft)**2 : STFT 절대값을 제곡한 값\n",
    "# STFT : 진폭을 나타내는 파워 스펙토그램 계산 -> mel_spec\n",
    "\n",
    "mel_spec = librosa.feature.melspectrogram(\n",
    "    s=librosa.power_to_db(np.abs(shft**2),\n",
    "    sr=sr,\n",
    "    n_mfcc=n_mfcc)\n",
    "    )"
   ]
  },
  {
   "cell_type": "code",
   "execution_count": 10,
   "metadata": {},
   "outputs": [
    {
     "ename": "NameError",
     "evalue": "name 'mel_spec' is not defined",
     "output_type": "error",
     "traceback": [
      "\u001b[0;31m---------------------------------------------------------------------------\u001b[0m",
      "\u001b[0;31mNameError\u001b[0m                                 Traceback (most recent call last)",
      "Cell \u001b[0;32mIn[10], line 4\u001b[0m\n\u001b[1;32m      1\u001b[0m \u001b[39m# 4. mel_spec -> MFCC 계산하기\u001b[39;00m\n\u001b[1;32m      3\u001b[0m n_mfcc \u001b[39m=\u001b[39m \u001b[39m13\u001b[39m \u001b[39m# 음성 분야에서는 12-13 특정 백터 추출하는 것이 일반적 -> MFCC 원하는 개수의 특징 백터를 추출하는 파라미터 값\u001b[39;00m\n\u001b[0;32m----> 4\u001b[0m mfccs \u001b[39m=\u001b[39m librosa\u001b[39m.\u001b[39mfeature\u001b[39m.\u001b[39mmfcc(S\u001b[39m=\u001b[39mlibrosa\u001b[39m.\u001b[39mpower_to_db(mel_spec), n_mfcc\u001b[39m=\u001b[39mn_mfcc)\n\u001b[1;32m      5\u001b[0m \u001b[39mprint\u001b[39m(mfccs)\n",
      "\u001b[0;31mNameError\u001b[0m: name 'mel_spec' is not defined"
     ]
    }
   ],
   "source": [
    "# 4. mel_spec -> MFCC 계산하기\n",
    "\n",
    "# mel_spec -> 파워 스펙토그램에서 데시벨 변환\n",
    "n_mfcc = 13 # 음성 분야에서는 12-13 특정 백터 추출하는 것이 일반적 -> MFCC 원하는 개수의 특징 백터를 추출하는 파라미터 값\n",
    "mfccs = librosa.feature.mfcc(S=librosa.power_to_db(mel_spec), n_mfcc=n_mfcc)\n",
    "print(mfccs)"
   ]
  },
  {
   "cell_type": "code",
   "execution_count": null,
   "metadata": {},
   "outputs": [],
   "source": [
    "# 5. 시각화 및 저장\n",
    "plt.figure(figsize=(10,4))\n",
    "librosa.display.specshow(mfcc, x_axis='time')\n",
    "plt.tight_layout()\n",
    "\n",
    "plt.savefig('../99_Studyfile/03_Output/MFCC.png', dpi=300, bbox_inches'tight')\n",
    "plt.close()"
   ]
  }
 ],
 "metadata": {
  "kernelspec": {
   "display_name": "Python 3",
   "language": "python",
   "name": "python3"
  },
  "language_info": {
   "codemirror_mode": {
    "name": "ipython",
    "version": 3
   },
   "file_extension": ".py",
   "mimetype": "text/x-python",
   "name": "python",
   "nbconvert_exporter": "python",
   "pygments_lexer": "ipython3",
   "version": "3.11.3"
  },
  "orig_nbformat": 4
 },
 "nbformat": 4,
 "nbformat_minor": 2
}
