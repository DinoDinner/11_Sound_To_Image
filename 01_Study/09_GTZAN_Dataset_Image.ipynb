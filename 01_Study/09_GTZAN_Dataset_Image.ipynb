{
 "cells": [
  {
   "attachments": {},
   "cell_type": "markdown",
   "metadata": {},
   "source": [
    "#### GTZAN Dataset Image 프로세싱 - 비율 유지하고 리사이즈 작업 진행하기"
   ]
  },
  {
   "cell_type": "code",
   "execution_count": 1,
   "metadata": {},
   "outputs": [],
   "source": [
    "from PIL import Image\n",
    "import glob\n",
    "import os"
   ]
  },
  {
   "cell_type": "code",
   "execution_count": 6,
   "metadata": {},
   "outputs": [
    {
     "name": "stdout",
     "output_type": "stream",
     "text": [
      "../99_Studyfile/03_Output/STFT_0_10_aug_stretch.png\n",
      "../99_Studyfile/03_Output/STFT_original.png\n",
      "../99_Studyfile/03_Output/waveshow_ori.png\n",
      "../99_Studyfile/03_Output/mel_spec_0-10_aug_noise.png\n",
      "../99_Studyfile/03_Output/mel_spec_0-10_aug_stretched.png\n"
     ]
    },
    {
     "name": "stderr",
     "output_type": "stream",
     "text": [
      "/var/folders/0l/zxkj_qvj2tgfw662_wp9n0vw0000gn/T/ipykernel_70615/142691824.py:19: DeprecationWarning: ANTIALIAS is deprecated and will be removed in Pillow 10 (2023-07-01). Use LANCZOS or Resampling.LANCZOS instead.\n",
      "  img = img.resize((new_size[0], new_size[1]),Image.ANTIALIAS)\n"
     ]
    },
    {
     "name": "stdout",
     "output_type": "stream",
     "text": [
      "../99_Studyfile/03_Output/spectrogram.png\n",
      "../99_Studyfile/03_Output/STFT_0_10_aug_noise.png\n",
      "../99_Studyfile/03_Output/mel_spec_original.png\n",
      "../99_Studyfile/03_Output/mel_spec_0_10.png\n",
      "../99_Studyfile/03_Output/stft_0_10.png\n",
      "../99_Studyfile/03_Output/waveshow_0_10_aug_noise.png\n",
      "../99_Studyfile/03_Output/waveshow_0_10.png\n"
     ]
    }
   ],
   "source": [
    "def expend2squere(pil_image, background_color):\n",
    "    width, height = pil_image.size\n",
    "    \n",
    "    if width == height :\n",
    "        return pil_image\n",
    "    \n",
    "    elif width > height :\n",
    "        result = Image.new(pil_image.mode, (width,width), background_color)\n",
    "        result.paste(pil_image, (0,(width - height) // 2))\n",
    "        return result\n",
    "    \n",
    "    else :\n",
    "        result = Image.new(pil_image.mode, (height,height), background_color)\n",
    "        result.paste(pil_image, (height - width)// 2, 0)\n",
    "        return result\n",
    "\n",
    "def resize_with_padding(pil_image, new_size, background_color):\n",
    "    img = expend2squere(pil_image, background_color)\n",
    "    img = img.resize((new_size[0], new_size[1]),Image.ANTIALIAS)\n",
    "    \n",
    "    return img\n",
    "\n",
    "image_path_list = glob.glob(os.path.join('../99_Studyfile/03_Output/','*.png'))\n",
    "\n",
    "for i,  img_path in enumerate(image_path_list):\n",
    "    print(img_path)\n",
    "    img = Image.open(img_path)\n",
    "    img_new =resize_with_padding(img, (255,255), (0,0,0))\n",
    "    \n",
    "    save_file_name = f'../99_Studyfile/03_Output/resize/{str(i).zfill(4)}_resize_img.png'\n",
    "    img_new.save(save_file_name,'png')"
   ]
  }
 ],
 "metadata": {
  "kernelspec": {
   "display_name": "Python 3",
   "language": "python",
   "name": "python3"
  },
  "language_info": {
   "codemirror_mode": {
    "name": "ipython",
    "version": 3
   },
   "file_extension": ".py",
   "mimetype": "text/x-python",
   "name": "python",
   "nbconvert_exporter": "python",
   "pygments_lexer": "ipython3",
   "version": "3.8.16"
  },
  "orig_nbformat": 4
 },
 "nbformat": 4,
 "nbformat_minor": 2
}
